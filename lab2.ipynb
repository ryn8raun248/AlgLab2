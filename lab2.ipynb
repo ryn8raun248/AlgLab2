{
 "cells": [
  {
   "cell_type": "code",
   "execution_count": null,
   "metadata": {},
   "outputs": [],
   "source": [
    "def is_inside(points, target):\n",
    "    num_intersects = 0\n",
    "    point_inf = (float('inf'), target.y)\n",
    "    points.append(points[0])\n",
    "    for i in range (0, len(points) - 1):\n",
    "        point1 = points[i]\n",
    "        point2 = points[i+1]\n",
    "        if do_intersect(point1, point2, target, point_inf):\t\n",
    "            num_intersects += 1\n",
    "    return num_intersects % 2 != 0\n",
    "\n",
    "def do_intersect(pointA, pointB, pointC, pointD):\n",
    "    a1 = pointB[1] - pointA[1]\n",
    "    b1 = pointA[0] - pointB[0]\n",
    "    c1 = a1 * (pointA[0]) + b1 * (pointA[1])\n",
    "    a2 = pointD[1] - pointC[1]\n",
    "    b2 = pointC[0] - pointD[0]\n",
    "    c2 = a2 * (pointC[0]) + b2 * (pointC[1])\n",
    "    determinant = a1 * b2 - a2 * b1\n",
    "    if (determinant == 0):\n",
    "        return False\n",
    "    else:\n",
    "        x = (c1*b2 - c2*b1)/determinant\n",
    "        y = (a1*c2 - a2*c1)/determinant\n",
    "        isValidX = min(pointA[0], pointB[0]) <= x <= max(pointA[0], pointB[0]) \n",
    "        isValidY = min(pointA[1], pointB[1]) <= y <= max(pointA[1], pointB[1]) \n",
    "\n",
    "        return isValidX and isValidY"
   ]
  }
 ],
 "metadata": {
  "interpreter": {
   "hash": "9b84567c16e469ac9888e0d8bdd8f015850c0c9e25674202ca48cf0bf500c7c1"
  },
  "kernelspec": {
   "display_name": "Python 3.9.12 64-bit (windows store)",
   "language": "python",
   "name": "python3"
  },
  "language_info": {
   "name": "python",
   "version": "3.9.12"
  },
  "orig_nbformat": 4
 },
 "nbformat": 4,
 "nbformat_minor": 2
}
