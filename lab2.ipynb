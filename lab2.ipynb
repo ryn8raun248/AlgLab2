{
 "cells": [
  {
   "cell_type": "markdown",
   "metadata": {},
   "source": [
    "# Lab 2 Iterative Algorithm Design\n",
    "## Authors: Nigel Nelson, Collin Quinn\n",
    "### Course: CS-3851\n",
    "\n",
    "\n",
    "---\n",
    "\n",
    "### Imports:"
   ]
  },
  {
   "cell_type": "code",
   "execution_count": 33,
   "metadata": {},
   "outputs": [],
   "source": [
    "import time\n",
    "import matplotlib.pyplot as plt\n",
    "import math\n",
    "import random\n",
    "from typing import List\n",
    "from typing import Tuple"
   ]
  },
  {
   "cell_type": "markdown",
   "metadata": {},
   "source": [
    "### Functions responsible for determining if a point is within a specified polygon:"
   ]
  },
  {
   "cell_type": "code",
   "execution_count": 34,
   "metadata": {},
   "outputs": [],
   "source": [
    "def is_inside(points, target):\n",
    "    \"\"\"\n",
    "    Determines if the target point is contained within a polygon which is\n",
    "    represented as a list of vertices.\n",
    "    :param points: A list of tuples representing a polygon's vertices \n",
    "    :param target: A tuple representing a point\n",
    "    :return: Whether the target point is within the polygon\n",
    "    \"\"\"\n",
    "    num_intersects = 0\n",
    "    # Add 1 to the largest x coordinate instead of using infinity\n",
    "    # to avoid NANs\n",
    "    furthest_x = max(points)[0] + 1\n",
    "    right_point = (furthest_x, target[1])\n",
    "    # Add the first vertex to the points so that each line segment\n",
    "    # is checked for intersections\n",
    "    points.append(points[0])\n",
    "    for i in range(0, len(points) - 1):\n",
    "        point1 = points[i]\n",
    "        point2 = points[i+1]\n",
    "        if do_intersect(point1, point2, target, right_point):\n",
    "            num_intersects += 1\n",
    "            # Short circuit and return true if the target is on the line segment\n",
    "            if located_on_line(point1, point2, target):\n",
    "                return True\n",
    "    return num_intersects % 2 != 0\n",
    "\n",
    "def do_intersect(pointA, pointB, pointC, pointD):\n",
    "    \"\"\"\n",
    "    Determines if two line segments, represented by pointA to pointB and\n",
    "    pointC to pointD, intersect if the line represented by pointC and pointD\n",
    "    was extended to the right.\n",
    "    :param pointA: A tuple representing a point\n",
    "    :param pointB: A tuple representing a point\n",
    "    :param pointC: A tuple representing a point\n",
    "    :param pointD: A tuple representing a point\n",
    "    :return: Whether the line segments intersect\n",
    "    \"\"\"\n",
    "    a1 = pointB[1] - pointA[1]\n",
    "    b1 = pointA[0] - pointB[0]\n",
    "    c1 = a1 * (pointA[0]) + b1 * (pointA[1])\n",
    "    a2 = pointD[1] - pointC[1]\n",
    "    b2 = pointC[0] - pointD[0]\n",
    "    c2 = a2 * (pointC[0]) + b2 * (pointC[1])\n",
    "    determinant = a1 * b2 - a2 * b1\n",
    "    # Determine if the lines are parallel \n",
    "    if (determinant == 0):\n",
    "        return False\n",
    "    else:\n",
    "        # Determine x and y coordinates of the intersection\n",
    "        x = (c1*b2 - c2*b1)/determinant\n",
    "        y = (a1*c2 - a2*c1)/determinant\n",
    "        # Ensure its a valid point\n",
    "        isValidX = min(pointA[0], pointB[0]) <= x <= max(pointA[0], pointB[0])\n",
    "        isValidY = min(pointA[1], pointB[1]) <= y <= max(pointA[1], pointB[1])\n",
    "        # Ensure the insection is to the right of the target point\n",
    "        isToRight = x >= pointC[0]\n",
    "\n",
    "        return isValidX and isValidY and isToRight\n",
    "\n",
    "\n",
    "def located_on_line(pointA, pointB, target):\n",
    "    \"\"\"\n",
    "    Determines if the target point lies on a line segment represented\n",
    "    by pointA and pointB\n",
    "    :param pointA: A tuple representing a point\n",
    "    :param pointB: A tuple representing a point\n",
    "    :param target: a tuple representing a point\n",
    "    :return: Whether target lies on the line segment\n",
    "    \"\"\"\n",
    "    if ((target[0] <= max(pointA[0], pointB[0]))\n",
    "            & (target[0] >= min(pointA[0], pointB[0]))\n",
    "            & (target[1] <= max(pointA[1], pointB[1]))\n",
    "            & (target[1] >= min(pointA[1], pointB[1]))):\n",
    "        return True\n",
    "    return False"
   ]
  },
  {
   "cell_type": "code",
   "execution_count": 35,
   "metadata": {},
   "outputs": [],
   "source": [
    "polygon1 = [(0, 0), (10, 0), (10, 10), (0, 10)]\n",
    "\n",
    "p1 = (20, 20)  # false\n",
    "p2 = (5, 5)  # true\n",
    "p3 = (-23, -23)  # false\n",
    "p4 = (0, 3)  # true\n",
    "\n",
    "polygon2 = [(0, 0), (5, 0), (5, 5), (3, 3)]\n",
    "\n",
    "p5 = (3, 3)  # true\n",
    "p6 = (5, 1)  # true\n",
    "p7 = (8, 1)  # false\n",
    "p8 = (2.4, 0) # true"
   ]
  },
  {
   "cell_type": "code",
   "execution_count": 36,
   "metadata": {},
   "outputs": [
    {
     "name": "stdout",
     "output_type": "stream",
     "text": [
      "False\n",
      "True\n",
      "False\n",
      "True\n",
      "True\n",
      "True\n",
      "False\n",
      "True\n"
     ]
    }
   ],
   "source": [
    "print(is_inside(polygon1, p1))\n",
    "print(is_inside(polygon1, p2))\n",
    "print(is_inside(polygon1, p3))\n",
    "print(is_inside(polygon1, p4))\n",
    "print(is_inside(polygon2, p5))\n",
    "print(is_inside(polygon2, p6))\n",
    "print(is_inside(polygon2, p7))\n",
    "print(is_inside(polygon2, p8))"
   ]
  },
  {
   "cell_type": "markdown",
   "metadata": {},
   "source": [
    "## Function responsible for creating random polygons with a specified number of vertices:\n",
    "- Credit for the code in the below cell belongs to Mike Ounsworth, a member of Stack Overflow.\n",
    "- [Link to Mike's Stack Overflow answer](https://stackoverflow.com/questions/8997099/algorithm-to-generate-random-2d-polygon)"
   ]
  },
  {
   "cell_type": "code",
   "execution_count": 37,
   "metadata": {},
   "outputs": [],
   "source": [
    "def generate_polygon(center: Tuple[float, float], avg_radius: float,\n",
    "                     irregularity: float, spikiness: float,\n",
    "                     num_vertices: int) -> List[Tuple[float, float]]:\n",
    "    \"\"\"\n",
    "    Start with the center of the polygon at center, then creates the\n",
    "    polygon by sampling points on a circle around the center.\n",
    "    Random noise is added by varying the angular spacing between\n",
    "    sequential points, and by varying the radial distance of each\n",
    "    point from the centre.\n",
    "\n",
    "    Args:\n",
    "        center (Tuple[float, float]):\n",
    "            a pair representing the center of the circumference used\n",
    "            to generate the polygon.\n",
    "        avg_radius (float):\n",
    "            the average radius (distance of each generated vertex to\n",
    "            the center of the circumference) used to generate points\n",
    "            with a normal distribution.\n",
    "        irregularity (float):\n",
    "            variance of the spacing of the angles between consecutive\n",
    "            vertices.\n",
    "        spikiness (float):\n",
    "            variance of the distance of each vertex to the center of\n",
    "            the circumference.\n",
    "        num_vertices (int):\n",
    "            the number of vertices of the polygon.\n",
    "    Returns:\n",
    "        List[Tuple[float, float]]: list of vertices, in CCW order.\n",
    "    \"\"\"\n",
    "    # Parameter check\n",
    "    if irregularity < 0 or irregularity > 1:\n",
    "        raise ValueError(\"Irregularity must be between 0 and 1.\")\n",
    "    if spikiness < 0 or spikiness > 1:\n",
    "        raise ValueError(\"Spikiness must be between 0 and 1.\")\n",
    "\n",
    "    irregularity *= 2 * math.pi / num_vertices\n",
    "    spikiness *= avg_radius\n",
    "    angle_steps = random_angle_steps(num_vertices, irregularity)\n",
    "\n",
    "    # now generate the points\n",
    "    points = []\n",
    "    angle = random.uniform(0, 2 * math.pi)\n",
    "    for i in range(num_vertices):\n",
    "        radius = clip(random.gauss(avg_radius, spikiness), 0, 2 * avg_radius)\n",
    "        point = (center[0] + radius * math.cos(angle),\n",
    "                 center[1] + radius * math.sin(angle))\n",
    "        points.append(point)\n",
    "        angle += angle_steps[i]\n",
    "\n",
    "    return points\n",
    "\n",
    "def random_angle_steps(steps: int, irregularity: float) -> List[float]:\n",
    "    \"\"\"Generates the division of a circumference in random angles.\n",
    "\n",
    "    Args:\n",
    "        steps (int):\n",
    "            the number of angles to generate.\n",
    "        irregularity (float):\n",
    "            variance of the spacing of the angles between consecutive vertices.\n",
    "    Returns:\n",
    "        List[float]: the list of the random angles.\n",
    "    \"\"\"\n",
    "    # generate n angle steps\n",
    "    angles = []\n",
    "    lower = (2 * math.pi / steps) - irregularity\n",
    "    upper = (2 * math.pi / steps) + irregularity\n",
    "    cumsum = 0\n",
    "    for i in range(steps):\n",
    "        angle = random.uniform(lower, upper)\n",
    "        angles.append(angle)\n",
    "        cumsum += angle\n",
    "\n",
    "    # normalize the steps so that point 0 and point n+1 are the same\n",
    "    cumsum /= (2 * math.pi)\n",
    "    for i in range(steps):\n",
    "        angles[i] /= cumsum\n",
    "    return angles\n",
    "\n",
    "def clip(value, lower, upper):\n",
    "    \"\"\"\n",
    "    Given an interval, values outside the interval are clipped to the interval\n",
    "    edges.\n",
    "    \"\"\"\n",
    "    return min(upper, max(value, lower))"
   ]
  },
  {
   "cell_type": "code",
   "execution_count": 39,
   "metadata": {},
   "outputs": [],
   "source": [
    "def benchmark(algorithm, points, target):\n",
    "    start_time = time.perf_counter()\n",
    "    algorithm(points, target)\n",
    "    end_time = time.perf_counter()\n",
    "    return end_time - start_time"
   ]
  },
  {
   "cell_type": "code",
   "execution_count": 38,
   "metadata": {},
   "outputs": [],
   "source": [
    "list_sizes = [10, 100, 1000, 10000, 100000, 1000000]\n",
    "polygon_center = (0,0)\n",
    "run_times = []\n",
    "\n",
    "for size in list_sizes:\n",
    "    points = generate_polygon(center=polygon_center,\n",
    "                                avg_radius=100,\n",
    "                                irregularity=0.35,\n",
    "                                spikiness=0.2,\n",
    "                                num_vertices=size)\n",
    "    total_time = benchmark(is_inside, points, polygon_center)\n",
    "    run_times.append(total_time)"
   ]
  },
  {
   "cell_type": "code",
   "execution_count": 41,
   "metadata": {},
   "outputs": [
    {
     "data": {
      "text/plain": [
       "<matplotlib.legend.Legend at 0x24b304349a0>"
      ]
     },
     "execution_count": 41,
     "metadata": {},
     "output_type": "execute_result"
    },
    {
     "data": {
      "image/png": "[encoded data removed]",
      "text/plain": [
       "<Figure size 432x288 with 1 Axes>"
      ]
     },
     "metadata": {
      "needs_background": "light"
     },
     "output_type": "display_data"
    }
   ],
   "source": [
    "plt.plot(list_sizes, run_times, label=\"Algorithm Run Time\")\n",
    "plt.xlabel(\"List Size\", fontsize=18)\n",
    "plt.ylabel(\"Run Time (s)\", fontsize=18)\n",
    "plt.title(\"Run Time vs. List Size\", fontsize=20)\n",
    "plt.legend()"
   ]
  }
 ],
 "metadata": {
  "interpreter": {
   "hash": "9b84567c16e469ac9888e0d8bdd8f015850c0c9e25674202ca48cf0bf500c7c1"
  },
  "kernelspec": {
   "display_name": "Python 3.9.12 64-bit (windows store)",
   "language": "python",
   "name": "python3"
  },
  "language_info": {
   "codemirror_mode": {
    "name": "ipython",
    "version": 3
   },
   "file_extension": ".py",
   "mimetype": "text/x-python",
   "name": "python",
   "nbconvert_exporter": "python",
   "pygments_lexer": "ipython3",
   "version": "3.9.12"
  },
  "orig_nbformat": 4
 },
 "nbformat": 4,
 "nbformat_minor": 2
}
