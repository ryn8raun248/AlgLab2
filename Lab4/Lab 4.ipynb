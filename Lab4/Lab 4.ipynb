{
 "cells": [
  {
   "cell_type": "markdown",
   "metadata": {},
   "source": [
    "# Lab 4 - Nigel Nelson, Collin Quinn"
   ]
  },
  {
   "cell_type": "markdown",
   "metadata": {},
   "source": [
    "**Introduction:**"
   ]
  },
  {
   "cell_type": "markdown",
   "metadata": {},
   "source": [
    "Heaps are data structures for efficiently tracking the smallest or largest item in a collection.  Heaps can be \n",
    "repurposed for sorting.  Once a heap is implemented, a collection of elements can be sorted by (1) adding \n",
    "every  element  to  the  heap  and  (2)  pop  each  element  off  of  the  heap  and  add  to  a  list.    Since  the  pop \n",
    "operation  of  the  heap  will  return  the  smallest  (or  largest)  element  of  the  remaining  elements,  the \n",
    "elements will be returned in sorted (reversed sorted) order.\n",
    "\n",
    "In this lab, we are implementing a binary max-heap data structure and then using it to implement heap sort. "
   ]
  },
  {
   "cell_type": "markdown",
   "metadata": {},
   "source": [
    "**Import Libraries:**"
   ]
  },
  {
   "cell_type": "code",
   "execution_count": 1,
   "metadata": {},
   "outputs": [],
   "source": [
    "import heap as hp\n",
    "import matplotlib.pyplot as plt\n",
    "import numpy as np\n",
    "import random\n",
    "import time\n",
    "from heap import *"
   ]
  },
  {
   "cell_type": "markdown",
   "metadata": {},
   "source": [
    "**Run test_heap.py:**"
   ]
  },
  {
   "cell_type": "code",
   "execution_count": 2,
   "metadata": {},
   "outputs": [
    {
     "name": "stdout",
     "output_type": "stream",
     "text": [
      "....\r\n",
      "----------------------------------------------------------------------\r\n",
      "Ran 4 tests in 0.001s\r\n",
      "\r\n",
      "OK\r\n"
     ]
    }
   ],
   "source": [
    "!python test_heap.py"
   ]
  },
  {
   "cell_type": "markdown",
   "metadata": {},
   "source": [
    "### **1. Evaluating Impact of List Order on Performance**"
   ]
  },
  {
   "cell_type": "code",
   "execution_count": 3,
   "metadata": {},
   "outputs": [],
   "source": [
    "# List size 100\n",
    "list_100 = []\n",
    "for i in range(100):\n",
    "    list_100.append(random.random())\n",
    "\n",
    "random.shuffle(list_100) # shuffled\n",
    "list_100_shuffled = list_100[:]\n",
    "\n",
    "list_100.sort() # ordered\n",
    "list_100_ordered = list_100[:]\n",
    "\n",
    "list_100.sort(reverse=True) # reversed order\n",
    "list_100_reversed = list_100[:]"
   ]
  },
  {
   "cell_type": "code",
   "execution_count": 4,
   "metadata": {},
   "outputs": [],
   "source": [
    "# List size 1,000\n",
    "list_1000 = []\n",
    "for i in range(1000):\n",
    "    list_1000.append(random.random())\n",
    "\n",
    "random.shuffle(list_1000) # shuffled\n",
    "list_1000_shuffled = list_1000[:]\n",
    "\n",
    "list_1000.sort() # ordered\n",
    "list_1000_ordered = list_1000[:]\n",
    "\n",
    "list_1000.sort(reverse=True) # reversed order\n",
    "list_1000_reversed = list_1000[:]"
   ]
  },
  {
   "cell_type": "code",
   "execution_count": 5,
   "metadata": {},
   "outputs": [],
   "source": [
    "# List size 10,000\n",
    "list_10000 = []\n",
    "for i in range(10000):\n",
    "    list_10000.append(random.random())\n",
    "\n",
    "random.shuffle(list_10000) # shuffled\n",
    "list_10000_shuffled = list_10000[:]\n",
    "\n",
    "list_10000.sort() # ordered\n",
    "list_10000_ordered = list_10000[:]\n",
    "\n",
    "list_10000.sort(reverse=True) # reversed order\n",
    "list_10000_reversed = list_10000[:]"
   ]
  },
  {
   "cell_type": "code",
   "execution_count": 6,
   "metadata": {},
   "outputs": [],
   "source": [
    "# List size 100,000\n",
    "list_100000 = []\n",
    "for i in range(100000):\n",
    "    list_100000.append(random.random())\n",
    "\n",
    "random.shuffle(list_100000) # shuffled\n",
    "list_100000_shuffled = list_100000[:]\n",
    "\n",
    "list_100000.sort() # ordered\n",
    "list_100000_ordered = list_100000[:]\n",
    "\n",
    "list_100000.sort(reverse=True) # reversed order\n",
    "list_100000_reversed = list_100000[:]"
   ]
  },
  {
   "cell_type": "markdown",
   "metadata": {},
   "source": [
    "Benchmark build_max_heap"
   ]
  },
  {
   "cell_type": "code",
   "execution_count": 7,
   "metadata": {},
   "outputs": [],
   "source": [
    "trials = 10\n",
    "runtimes_shuffled_100 = []\n",
    "runtimes_reversed_100 = []\n",
    "runtimes_ordered_100 = []\n",
    "\n",
    "runtimes_shuffled_1000 = []\n",
    "runtimes_reversed_1000 = []\n",
    "runtimes_ordered_1000 = []\n",
    "\n",
    "runtimes_shuffled_10000 = []\n",
    "runtimes_reversed_10000 = []\n",
    "runtimes_ordered_10000 = []\n",
    "\n",
    "runtimes_shuffled_100000 = []\n",
    "runtimes_reversed_100000 = []\n",
    "runtimes_ordered_100000 = []\n",
    "\n",
    "runtimes_shuffled = []\n",
    "runtimes_reversed = []\n",
    "runtimes_ordered = []"
   ]
  },
  {
   "cell_type": "markdown",
   "metadata": {},
   "source": [
    "Size 100"
   ]
  },
  {
   "cell_type": "code",
   "execution_count": 8,
   "metadata": {},
   "outputs": [
    {
     "name": "stdout",
     "output_type": "stream",
     "text": [
      "size 100 shuffled mean 8.420739322900772e-05\n"
     ]
    }
   ],
   "source": [
    "for i in range(trials):\n",
    "    start = time.perf_counter()\n",
    "    lst_100_sh = list_100_shuffled[:]\n",
    "    build_max_heap(lst_100_sh)\n",
    "    end = time.perf_counter()\n",
    "    total_time = end - start\n",
    "    runtimes_shuffled_100.append(total_time)\n",
    "mean_100_sh = np.array(runtimes_shuffled_100).mean()\n",
    "print('size 100 shuffled mean', mean_100_sh)\n",
    "runtimes_shuffled.append(mean_100_sh)"
   ]
  },
  {
   "cell_type": "code",
   "execution_count": 9,
   "metadata": {},
   "outputs": [
    {
     "name": "stdout",
     "output_type": "stream",
     "text": [
      "size 100 sorted mean 0.00014580897986888887\n"
     ]
    }
   ],
   "source": [
    "for i in range(trials):\n",
    "    start = time.perf_counter()\n",
    "    lst_100_ordered = list_100_ordered[:]\n",
    "    build_max_heap(lst_100_ordered)\n",
    "    end = time.perf_counter()\n",
    "    total_time = end - start\n",
    "    runtimes_ordered_100.append(total_time)\n",
    "mean_100_ordered = np.array(runtimes_ordered_100).mean()\n",
    "print('size 100 sorted mean', mean_100_ordered)\n",
    "runtimes_ordered.append(mean_100_ordered)"
   ]
  },
  {
   "cell_type": "code",
   "execution_count": 10,
   "metadata": {},
   "outputs": [
    {
     "name": "stdout",
     "output_type": "stream",
     "text": [
      "size 100 reversed mean 4.6131573617458345e-05\n"
     ]
    }
   ],
   "source": [
    "for i in range(trials):\n",
    "    start = time.perf_counter()\n",
    "    lst_100_reversed = list_100_reversed[:]\n",
    "    build_max_heap(lst_100_reversed)\n",
    "    end = time.perf_counter()\n",
    "    total_time = end - start\n",
    "    runtimes_reversed_100.append(total_time)\n",
    "mean_100_reversed = np.array(runtimes_reversed_100).mean()\n",
    "print('size 100 reversed mean', mean_100_reversed)\n",
    "runtimes_reversed.append(mean_100_reversed)"
   ]
  },
  {
   "cell_type": "markdown",
   "metadata": {},
   "source": [
    "Size 1000"
   ]
  },
  {
   "cell_type": "code",
   "execution_count": 11,
   "metadata": {},
   "outputs": [
    {
     "name": "stdout",
     "output_type": "stream",
     "text": [
      "size 1000 shuffled mean 0.0013313591480255127\n"
     ]
    }
   ],
   "source": [
    "for i in range(trials):\n",
    "    start = time.perf_counter()\n",
    "    lst_1000_sh = list_1000_shuffled[:]\n",
    "    build_max_heap(lst_1000_sh)\n",
    "    end = time.perf_counter()\n",
    "    total_time = end - start\n",
    "    runtimes_shuffled_1000.append(total_time)\n",
    "mean_1000_sh = np.array(runtimes_shuffled_1000).mean()\n",
    "print('size 1000 shuffled mean', mean_1000_sh)\n",
    "runtimes_shuffled.append(mean_100_sh)"
   ]
  },
  {
   "cell_type": "code",
   "execution_count": 12,
   "metadata": {},
   "outputs": [
    {
     "name": "stdout",
     "output_type": "stream",
     "text": [
      "size 1000 sorted mean 0.0009999427944421767\n"
     ]
    }
   ],
   "source": [
    "for i in range(trials):\n",
    "    start = time.perf_counter()\n",
    "    lst_1000_ordered = list_1000_ordered[:]\n",
    "    build_max_heap(lst_1000_ordered)\n",
    "    end = time.perf_counter()\n",
    "    total_time = end - start\n",
    "    runtimes_ordered_1000.append(total_time)\n",
    "mean_1000_ordered = np.array(runtimes_ordered_1000).mean()\n",
    "print('size 1000 sorted mean', mean_1000_ordered)\n",
    "runtimes_ordered.append(mean_1000_ordered)"
   ]
  },
  {
   "cell_type": "code",
   "execution_count": 13,
   "metadata": {},
   "outputs": [
    {
     "name": "stdout",
     "output_type": "stream",
     "text": [
      "size 1000 reversed mean 0.00036089178174734113\n"
     ]
    }
   ],
   "source": [
    "for i in range(trials):\n",
    "    start = time.perf_counter()\n",
    "    lst_1000_reversed = list_1000_reversed[:]\n",
    "    build_max_heap(lst_1000_reversed)\n",
    "    end = time.perf_counter()\n",
    "    total_time = end - start\n",
    "    runtimes_reversed_1000.append(total_time)\n",
    "mean_1000_reversed = np.array(runtimes_reversed_1000).mean()\n",
    "print('size 1000 reversed mean', mean_1000_reversed)\n",
    "runtimes_reversed.append(mean_1000_reversed)"
   ]
  },
  {
   "cell_type": "markdown",
   "metadata": {},
   "source": [
    "Size 10,000"
   ]
  },
  {
   "cell_type": "code",
   "execution_count": 14,
   "metadata": {},
   "outputs": [
    {
     "name": "stdout",
     "output_type": "stream",
     "text": [
      "size 10,000 shuffled mean 0.006447817571461201\n"
     ]
    }
   ],
   "source": [
    "for i in range(trials):\n",
    "    start = time.perf_counter()\n",
    "    lst_10000_sh = list_10000_shuffled[:]\n",
    "    build_max_heap(lst_10000_sh)\n",
    "    end = time.perf_counter()\n",
    "    total_time = end - start\n",
    "    runtimes_shuffled_10000.append(total_time)\n",
    "mean_10000_sh = np.array(runtimes_shuffled_10000).mean()\n",
    "print('size 10,000 shuffled mean', mean_10000_sh)\n",
    "runtimes_shuffled.append(mean_10000_sh)"
   ]
  },
  {
   "cell_type": "code",
   "execution_count": 15,
   "metadata": {},
   "outputs": [
    {
     "name": "stdout",
     "output_type": "stream",
     "text": [
      "size 10,000 sorted mean 0.00875629261136055\n"
     ]
    }
   ],
   "source": [
    "for i in range(trials):\n",
    "    start = time.perf_counter()\n",
    "    lst_10000_ordered = list_10000_ordered[:]\n",
    "    build_max_heap(lst_10000_ordered)\n",
    "    end = time.perf_counter()\n",
    "    total_time = end - start\n",
    "    runtimes_ordered_10000.append(total_time)\n",
    "mean_10000_ordered = np.array(runtimes_ordered_10000).mean()\n",
    "print('size 10,000 sorted mean', mean_10000_ordered)\n",
    "runtimes_ordered.append(mean_10000_ordered)"
   ]
  },
  {
   "cell_type": "code",
   "execution_count": 16,
   "metadata": {},
   "outputs": [
    {
     "name": "stdout",
     "output_type": "stream",
     "text": [
      "size 10,000 reversed mean 0.00023055914789438248\n"
     ]
    }
   ],
   "source": [
    "for i in range(trials):\n",
    "    start = time.perf_counter()\n",
    "    lst_10000_reversed = list_1000_reversed[:]\n",
    "    build_max_heap(lst_10000_reversed)\n",
    "    end = time.perf_counter()\n",
    "    total_time = end - start\n",
    "    runtimes_reversed_10000.append(total_time)\n",
    "mean_10000_reversed = np.array(runtimes_reversed_10000).mean()\n",
    "print('size 10,000 reversed mean', mean_10000_reversed)\n",
    "runtimes_reversed.append(mean_10000_reversed)"
   ]
  },
  {
   "cell_type": "markdown",
   "metadata": {},
   "source": [
    "Size 100,000"
   ]
  },
  {
   "cell_type": "code",
   "execution_count": 17,
   "metadata": {},
   "outputs": [
    {
     "name": "stdout",
     "output_type": "stream",
     "text": [
      "size 100,000 shuffled mean 0.06185954362154007\n"
     ]
    }
   ],
   "source": [
    "for i in range(trials):\n",
    "    start = time.perf_counter()\n",
    "    lst_100000_sh = list_100000_shuffled[:]\n",
    "    build_max_heap(lst_100000_sh)\n",
    "    end = time.perf_counter()\n",
    "    total_time = end - start\n",
    "    runtimes_shuffled_100000.append(total_time)\n",
    "mean_100000_sh = np.array(runtimes_shuffled_100000).mean()\n",
    "print('size 100,000 shuffled mean', mean_100000_sh)\n",
    "runtimes_shuffled.append(mean_100000_sh)"
   ]
  },
  {
   "cell_type": "code",
   "execution_count": 18,
   "metadata": {},
   "outputs": [
    {
     "name": "stdout",
     "output_type": "stream",
     "text": [
      "size 100,000 sorted mean 0.07135379463434219\n"
     ]
    }
   ],
   "source": [
    "for i in range(trials):\n",
    "    start = time.perf_counter()\n",
    "    lst_100000_ordered = list_100000_ordered[:]\n",
    "    build_max_heap(lst_100000_ordered)\n",
    "    end = time.perf_counter()\n",
    "    total_time = end - start\n",
    "    runtimes_ordered_100000.append(total_time)\n",
    "mean_100000_ordered = np.array(runtimes_ordered_100000).mean()\n",
    "print('size 100,000 sorted mean', mean_100000_ordered)\n",
    "runtimes_ordered.append(mean_100000_ordered)"
   ]
  },
  {
   "cell_type": "code",
   "execution_count": 19,
   "metadata": {},
   "outputs": [
    {
     "name": "stdout",
     "output_type": "stream",
     "text": [
      "size 100,000 reversed mean 0.026086681336164475\n"
     ]
    }
   ],
   "source": [
    "for i in range(trials):\n",
    "    start = time.perf_counter()\n",
    "    lst_100000_reversed = list_100000_reversed[:]\n",
    "    build_max_heap(lst_100000_reversed)\n",
    "    end = time.perf_counter()\n",
    "    total_time = end - start\n",
    "    runtimes_reversed_100000.append(total_time)\n",
    "mean_100000_reversed = np.array(runtimes_reversed_100000).mean()\n",
    "print('size 100,000 reversed mean', mean_100000_reversed)\n",
    "runtimes_reversed.append(mean_100000_reversed)"
   ]
  },
  {
   "cell_type": "markdown",
   "metadata": {},
   "source": [
    "Plot the list sizes vs. runtimes"
   ]
  },
  {
   "cell_type": "code",
   "execution_count": 20,
   "metadata": {},
   "outputs": [
    {
     "data": {
      "image/png": "[encoded data removed]",
      "text/plain": [
       "<Figure size 432x288 with 1 Axes>"
      ]
     },
     "metadata": {
      "needs_background": "light"
     },
     "output_type": "display_data"
    }
   ],
   "source": [
    "list_sizes = [100,1000,10000,100000]\n",
    "plt.plot(list_sizes, runtimes_shuffled, label=\"Shuffled\")\n",
    "plt.plot(list_sizes, runtimes_reversed, label=\"Reversed\")\n",
    "plt.plot(list_sizes, runtimes_ordered, label=\"Ordered\")\n",
    "plt.xlabel(\"List size\")\n",
    "plt.ylabel(\"Runtime (seconds)\")\n",
    "plt.title(\"Build Max Heap\")\n",
    "plt.legend()\n",
    "plt.xscale('log')"
   ]
  },
  {
   "cell_type": "markdown",
   "metadata": {},
   "source": [
    "### **2. Evaluating  Impact  of  Building  Heap  in  One  Step  vs  Inserting  Each  Element.**"
   ]
  },
  {
   "cell_type": "code",
   "execution_count": 21,
   "metadata": {},
   "outputs": [],
   "source": [
    "runtimes_shuffled_100 = []\n",
    "runtimes_reversed_100 = []\n",
    "runtimes_ordered_100 = []\n",
    "\n",
    "runtimes_shuffled_1000 = []\n",
    "runtimes_reversed_1000 = []\n",
    "runtimes_ordered_1000 = []\n",
    "\n",
    "runtimes_shuffled_10000 = []\n",
    "runtimes_reversed_10000 = []\n",
    "runtimes_ordered_10000 = []\n",
    "\n",
    "runtimes_shuffled_100000 = []\n",
    "runtimes_reversed_100000 = []\n",
    "runtimes_ordered_100000 = []\n",
    "\n",
    "runtimes_shuffled_ind = []\n",
    "runtimes_reversed_ind = []\n",
    "runtimes_ordered_ind = []"
   ]
  },
  {
   "cell_type": "markdown",
   "metadata": {},
   "source": [
    "Size 100"
   ]
  },
  {
   "cell_type": "code",
   "execution_count": 22,
   "metadata": {},
   "outputs": [
    {
     "name": "stdout",
     "output_type": "stream",
     "text": [
      "size 100 shuffled mean 0.0001217113807797432\n"
     ]
    }
   ],
   "source": [
    "for i in range(trials):\n",
    "    list_ = []\n",
    "    start = time.perf_counter()\n",
    "    for i in range(len(list_100_shuffled)):\n",
    "        max_heap_insert(list_, list_100_shuffled[i])\n",
    "    end = time.perf_counter()\n",
    "    total_time = end - start\n",
    "    runtimes_shuffled_100.append(total_time)\n",
    "mean_100_sh = np.array(runtimes_shuffled_100).mean()\n",
    "print('size 100 shuffled mean', mean_100_sh)\n",
    "runtimes_shuffled_ind.append(mean_100_sh)"
   ]
  },
  {
   "cell_type": "code",
   "execution_count": 23,
   "metadata": {},
   "outputs": [
    {
     "name": "stdout",
     "output_type": "stream",
     "text": [
      "size 100 ordered mean 0.00026054251939058306\n"
     ]
    }
   ],
   "source": [
    "for i in range(trials):\n",
    "    list_ = []\n",
    "    start = time.perf_counter()\n",
    "    for i in range(len(list_100_ordered)):\n",
    "        max_heap_insert(list_, list_100_ordered[i])\n",
    "    end = time.perf_counter()\n",
    "    total_time = end - start\n",
    "    runtimes_ordered_100.append(total_time)\n",
    "mean_100_or = np.array(runtimes_ordered_100).mean()\n",
    "print('size 100 ordered mean', mean_100_or)\n",
    "runtimes_ordered_ind.append(mean_100_or)"
   ]
  },
  {
   "cell_type": "code",
   "execution_count": 24,
   "metadata": {},
   "outputs": [
    {
     "name": "stdout",
     "output_type": "stream",
     "text": [
      "size 100 reversed mean 0.00016711968928575515\n"
     ]
    }
   ],
   "source": [
    "for i in range(trials):\n",
    "    list_ = []\n",
    "    start = time.perf_counter()\n",
    "    for i in range(len(list_100_reversed)):\n",
    "        max_heap_insert(list_, list_100_reversed[i])\n",
    "    end = time.perf_counter()\n",
    "    total_time = end - start\n",
    "    runtimes_reversed_100.append(total_time)\n",
    "mean_100_rev = np.array(runtimes_reversed_100).mean()\n",
    "print('size 100 reversed mean', mean_100_rev)\n",
    "runtimes_reversed_ind.append(mean_100_rev)"
   ]
  },
  {
   "cell_type": "markdown",
   "metadata": {},
   "source": [
    "Size 1,000"
   ]
  },
  {
   "cell_type": "code",
   "execution_count": 25,
   "metadata": {},
   "outputs": [
    {
     "name": "stdout",
     "output_type": "stream",
     "text": [
      "size 1000 shuffled mean 0.0020005904138088227\n"
     ]
    }
   ],
   "source": [
    "for i in range(trials):\n",
    "    list_ = []\n",
    "    start = time.perf_counter()\n",
    "    for i in range(len(list_1000_shuffled)):\n",
    "        max_heap_insert(list_, list_1000_shuffled[i])\n",
    "    end = time.perf_counter()\n",
    "    total_time = end - start\n",
    "    runtimes_shuffled_1000.append(total_time)\n",
    "mean_1000_sh = np.array(runtimes_shuffled_1000).mean()\n",
    "print('size 1000 shuffled mean', mean_1000_sh)\n",
    "runtimes_shuffled_ind.append(mean_1000_sh)"
   ]
  },
  {
   "cell_type": "code",
   "execution_count": 26,
   "metadata": {},
   "outputs": [
    {
     "name": "stdout",
     "output_type": "stream",
     "text": [
      "size 1000 ordered mean 0.005029267631471157\n"
     ]
    }
   ],
   "source": [
    "for i in range(trials):\n",
    "    list_ = []\n",
    "    start = time.perf_counter()\n",
    "    for i in range(len(list_1000_ordered)):\n",
    "        max_heap_insert(list_, list_1000_ordered[i])\n",
    "    end = time.perf_counter()\n",
    "    total_time = end - start\n",
    "    runtimes_ordered_1000.append(total_time)\n",
    "mean_1000_or = np.array(runtimes_ordered_1000).mean()\n",
    "print('size 1000 ordered mean', mean_1000_or)\n",
    "runtimes_ordered_ind.append(mean_1000_or)"
   ]
  },
  {
   "cell_type": "code",
   "execution_count": 27,
   "metadata": {},
   "outputs": [
    {
     "name": "stdout",
     "output_type": "stream",
     "text": [
      "size 1000 reversed mean 0.0010450907051563264\n"
     ]
    }
   ],
   "source": [
    "for i in range(trials):\n",
    "    list_ = []\n",
    "    start = time.perf_counter()\n",
    "    for i in range(len(list_1000_reversed)):\n",
    "        max_heap_insert(list_, list_1000_reversed[i])\n",
    "    end = time.perf_counter()\n",
    "    total_time = end - start\n",
    "    runtimes_reversed_1000.append(total_time)\n",
    "mean_1000_rev = np.array(runtimes_reversed_1000).mean()\n",
    "print('size 1000 reversed mean', mean_1000_rev)\n",
    "runtimes_reversed_ind.append(mean_1000_rev)"
   ]
  },
  {
   "cell_type": "markdown",
   "metadata": {},
   "source": [
    "Size 10,000"
   ]
  },
  {
   "cell_type": "code",
   "execution_count": 28,
   "metadata": {},
   "outputs": [
    {
     "name": "stdout",
     "output_type": "stream",
     "text": [
      "size 10000 shuffled mean 0.013838246092200279\n"
     ]
    }
   ],
   "source": [
    "for i in range(trials):\n",
    "    list_ = []\n",
    "    start = time.perf_counter()\n",
    "    for i in range(len(list_10000_shuffled)):\n",
    "        max_heap_insert(list_, list_10000_shuffled[i])\n",
    "    end = time.perf_counter()\n",
    "    total_time = end - start\n",
    "    runtimes_shuffled_10000.append(total_time)\n",
    "mean_10000_sh = np.array(runtimes_shuffled_10000).mean()\n",
    "print('size 10000 shuffled mean', mean_10000_sh)\n",
    "runtimes_shuffled_ind.append(mean_10000_sh)"
   ]
  },
  {
   "cell_type": "code",
   "execution_count": 29,
   "metadata": {},
   "outputs": [
    {
     "name": "stdout",
     "output_type": "stream",
     "text": [
      "size 10000 ordered mean 0.061521871201694014\n"
     ]
    }
   ],
   "source": [
    "for i in range(trials):\n",
    "    list_ = []\n",
    "    start = time.perf_counter()\n",
    "    for i in range(len(list_10000_ordered)):\n",
    "        max_heap_insert(list_, list_10000_ordered[i])\n",
    "    end = time.perf_counter()\n",
    "    total_time = end - start\n",
    "    runtimes_ordered_10000.append(total_time)\n",
    "mean_10000_or = np.array(runtimes_ordered_10000).mean()\n",
    "print('size 10000 ordered mean', mean_10000_or)\n",
    "runtimes_ordered_ind.append(mean_10000_or)"
   ]
  },
  {
   "cell_type": "code",
   "execution_count": 30,
   "metadata": {},
   "outputs": [
    {
     "name": "stdout",
     "output_type": "stream",
     "text": [
      "size 10000 reversed mean 0.007957757264375687\n"
     ]
    }
   ],
   "source": [
    "for i in range(trials):\n",
    "    list_ = []\n",
    "    start = time.perf_counter()\n",
    "    for i in range(len(list_10000_reversed)):\n",
    "        max_heap_insert(list_, list_10000_reversed[i])\n",
    "    end = time.perf_counter()\n",
    "    total_time = end - start\n",
    "    runtimes_reversed_10000.append(total_time)\n",
    "mean_10000_rev = np.array(runtimes_reversed_10000).mean()\n",
    "print('size 10000 reversed mean', mean_10000_rev)\n",
    "runtimes_reversed_ind.append(mean_10000_rev)"
   ]
  },
  {
   "cell_type": "markdown",
   "metadata": {},
   "source": [
    "Size 100,000"
   ]
  },
  {
   "cell_type": "code",
   "execution_count": 31,
   "metadata": {},
   "outputs": [
    {
     "name": "stdout",
     "output_type": "stream",
     "text": [
      "size 100,000 shuffled mean 0.1372895199805498\n"
     ]
    }
   ],
   "source": [
    "for i in range(trials):\n",
    "    list_ = []\n",
    "    start = time.perf_counter()\n",
    "    for i in range(len(list_100000_shuffled)):\n",
    "        max_heap_insert(list_, list_100000_shuffled[i])\n",
    "    end = time.perf_counter()\n",
    "    total_time = end - start\n",
    "    runtimes_shuffled_100000.append(total_time)\n",
    "mean_100000_sh = np.array(runtimes_shuffled_100000).mean()\n",
    "print('size 100,000 shuffled mean', mean_100000_sh)\n",
    "runtimes_shuffled_ind.append(mean_100000_sh)"
   ]
  },
  {
   "cell_type": "code",
   "execution_count": 32,
   "metadata": {},
   "outputs": [
    {
     "name": "stdout",
     "output_type": "stream",
     "text": [
      "size 100000 ordered mean 0.7537456108257174\n"
     ]
    }
   ],
   "source": [
    "for i in range(trials):\n",
    "    list_ = []\n",
    "    start = time.perf_counter()\n",
    "    for i in range(len(list_100000_ordered)):\n",
    "        max_heap_insert(list_, list_100000_ordered[i])\n",
    "    end = time.perf_counter()\n",
    "    total_time = end - start\n",
    "    runtimes_ordered_100000.append(total_time)\n",
    "mean_100000_or = np.array(runtimes_ordered_100000).mean()\n",
    "print('size 100000 ordered mean', mean_100000_or)\n",
    "runtimes_ordered_ind.append(mean_100000_or)"
   ]
  },
  {
   "cell_type": "code",
   "execution_count": 33,
   "metadata": {},
   "outputs": [
    {
     "name": "stdout",
     "output_type": "stream",
     "text": [
      "size 100000 reversed mean 0.07669111844152213\n"
     ]
    }
   ],
   "source": [
    "for i in range(trials):\n",
    "    list_ = []\n",
    "    start = time.perf_counter()\n",
    "    for i in range(len(list_100000_reversed)):\n",
    "        max_heap_insert(list_, list_100000_reversed[i])\n",
    "    end = time.perf_counter()\n",
    "    total_time = end - start\n",
    "    runtimes_reversed_100000.append(total_time)\n",
    "mean_100000_rev = np.array(runtimes_reversed_100000).mean()\n",
    "print('size 100000 reversed mean', mean_100000_rev)\n",
    "runtimes_reversed_ind.append(mean_100000_rev)"
   ]
  },
  {
   "cell_type": "code",
   "execution_count": 34,
   "metadata": {},
   "outputs": [
    {
     "data": {
      "image/png": "[encoded data removed]",
      "text/plain": [
       "<Figure size 432x288 with 1 Axes>"
      ]
     },
     "metadata": {
      "needs_background": "light"
     },
     "output_type": "display_data"
    }
   ],
   "source": [
    "plt.plot(list_sizes, runtimes_shuffled_ind, label=\"Shuffled\")\n",
    "plt.plot(list_sizes, runtimes_reversed_ind, label=\"Reversed\")\n",
    "plt.plot(list_sizes, runtimes_ordered_ind, label=\"Ordered\")\n",
    "plt.xlabel(\"List size\")\n",
    "plt.ylabel(\"Runtime (seconds)\")\n",
    "plt.title(\"Individual Insertion\")\n",
    "plt.legend()\n",
    "plt.xscale('log')"
   ]
  },
  {
   "cell_type": "markdown",
   "metadata": {},
   "source": [
    "Making one plot for each case, comparing build_max_heap method vs. inserting each element individually using max_heap_insert"
   ]
  },
  {
   "cell_type": "code",
   "execution_count": 35,
   "metadata": {},
   "outputs": [
    {
     "data": {
      "image/png": "[encoded data removed]",
      "text/plain": [
       "<Figure size 432x288 with 1 Axes>"
      ]
     },
     "metadata": {
      "needs_background": "light"
     },
     "output_type": "display_data"
    }
   ],
   "source": [
    "plt.plot(list_sizes, runtimes_shuffled, label=\"build_max_heap\")\n",
    "plt.plot(list_sizes, runtimes_shuffled_ind, label=\"individual\")\n",
    "plt.xlabel(\"List Size\")\n",
    "plt.ylabel(\"Runtime (seconds)\")\n",
    "plt.title(\"Shuffled\")\n",
    "plt.legend()\n",
    "plt.xscale('log')"
   ]
  },
  {
   "cell_type": "code",
   "execution_count": 36,
   "metadata": {},
   "outputs": [
    {
     "data": {
      "image/png": "[encoded data removed]",
      "text/plain": [
       "<Figure size 432x288 with 1 Axes>"
      ]
     },
     "metadata": {
      "needs_background": "light"
     },
     "output_type": "display_data"
    }
   ],
   "source": [
    "plt.plot(list_sizes, runtimes_ordered, label=\"build_max_heap\")\n",
    "plt.plot(list_sizes, runtimes_ordered_ind, label=\"individual\")\n",
    "plt.xlabel(\"List Size\")\n",
    "plt.ylabel(\"Runtime (seconds)\")\n",
    "plt.title(\"Ordered\")\n",
    "plt.legend()\n",
    "plt.xscale('log')"
   ]
  },
  {
   "cell_type": "code",
   "execution_count": 37,
   "metadata": {},
   "outputs": [
    {
     "data": {
      "image/png": "[encoded data removed]",
      "text/plain": [
       "<Figure size 432x288 with 1 Axes>"
      ]
     },
     "metadata": {
      "needs_background": "light"
     },
     "output_type": "display_data"
    }
   ],
   "source": [
    "plt.plot(list_sizes, runtimes_reversed, label=\"build_max_heap\")\n",
    "plt.plot(list_sizes, runtimes_reversed_ind, label=\"individual\")\n",
    "plt.xlabel(\"List Size\")\n",
    "plt.ylabel(\"Runtime (seconds)\")\n",
    "plt.title(\"Reversed\")\n",
    "plt.legend()\n",
    "plt.xscale('log')"
   ]
  },
  {
   "cell_type": "markdown",
   "metadata": {},
   "source": [
    "### **3. Evaluating  Run-Time  of  Extraction  vs  Insert.**"
   ]
  },
  {
   "cell_type": "code",
   "execution_count": 38,
   "metadata": {},
   "outputs": [],
   "source": [
    "runtimes_ext = []\n",
    "runtimes_shuffled_100 = []\n",
    "runtimes_shuffled_1000 = []\n",
    "runtimes_shuffled_10000 = []\n",
    "runtimes_shuffled_100000 = []"
   ]
  },
  {
   "cell_type": "markdown",
   "metadata": {},
   "source": [
    "Size 100"
   ]
  },
  {
   "cell_type": "code",
   "execution_count": 39,
   "metadata": {},
   "outputs": [
    {
     "name": "stdout",
     "output_type": "stream",
     "text": [
      "size 100 shuffled mean 0.00042910613119602204\n"
     ]
    }
   ],
   "source": [
    "for i in range(trials):\n",
    "    list_ = list_100_shuffled[:] \n",
    "    build_max_heap(list_)\n",
    "    start = time.perf_counter()\n",
    "    for i in range(len(list_100_shuffled)):\n",
    "        heap_extract_max(list_)\n",
    "    end = time.perf_counter()\n",
    "    total_time = end - start\n",
    "    runtimes_shuffled_100.append(total_time)\n",
    "mean_100_sh = np.array(runtimes_shuffled_100).mean()\n",
    "print('size 100 shuffled mean', mean_100_sh)\n",
    "runtimes_ext.append(mean_100_sh)\n"
   ]
  },
  {
   "cell_type": "markdown",
   "metadata": {},
   "source": [
    "Size 1,000"
   ]
  },
  {
   "cell_type": "code",
   "execution_count": 40,
   "metadata": {},
   "outputs": [
    {
     "name": "stdout",
     "output_type": "stream",
     "text": [
      "size 1000 shuffled mean 0.005046790093183517\n"
     ]
    }
   ],
   "source": [
    "for i in range(trials):\n",
    "    list_ = list_1000_shuffled[:] \n",
    "    build_max_heap(list_)\n",
    "    start = time.perf_counter()\n",
    "    for i in range(len(list_1000_shuffled)):\n",
    "        heap_extract_max(list_)\n",
    "    end = time.perf_counter()\n",
    "    total_time = end - start\n",
    "    runtimes_shuffled_1000.append(total_time)\n",
    "mean_1000_sh = np.array(runtimes_shuffled_1000).mean()\n",
    "print('size 1000 shuffled mean', mean_1000_sh)\n",
    "runtimes_ext.append(mean_1000_sh)"
   ]
  },
  {
   "cell_type": "markdown",
   "metadata": {},
   "source": [
    "Size 10,000"
   ]
  },
  {
   "cell_type": "code",
   "execution_count": 41,
   "metadata": {},
   "outputs": [
    {
     "name": "stdout",
     "output_type": "stream",
     "text": [
      "size 10000 shuffled mean 0.06120904814451933\n"
     ]
    }
   ],
   "source": [
    "for i in range(trials):\n",
    "    list_ = list_10000_shuffled[:] \n",
    "    build_max_heap(list_)\n",
    "    start = time.perf_counter()\n",
    "    for i in range(len(list_10000_shuffled)):\n",
    "        heap_extract_max(list_)\n",
    "    end = time.perf_counter()\n",
    "    total_time = end - start\n",
    "    runtimes_shuffled_10000.append(total_time)\n",
    "mean_10000_sh = np.array(runtimes_shuffled_10000).mean()\n",
    "print('size 10000 shuffled mean', mean_10000_sh)\n",
    "runtimes_ext.append(mean_10000_sh)"
   ]
  },
  {
   "cell_type": "markdown",
   "metadata": {},
   "source": [
    "Size 100,000"
   ]
  },
  {
   "cell_type": "code",
   "execution_count": 42,
   "metadata": {},
   "outputs": [
    {
     "name": "stdout",
     "output_type": "stream",
     "text": [
      "size 100000 shuffled mean 0.797333056665957\n"
     ]
    }
   ],
   "source": [
    "for i in range(trials):\n",
    "    list_ = list_100000_shuffled[:] \n",
    "    build_max_heap(list_)\n",
    "    start = time.perf_counter()\n",
    "    for i in range(len(list_100000_shuffled)):\n",
    "        heap_extract_max(list_)\n",
    "    end = time.perf_counter()\n",
    "    total_time = end - start\n",
    "    runtimes_shuffled_100000.append(total_time)\n",
    "mean_100000_sh = np.array(runtimes_shuffled_100000).mean()\n",
    "print('size 100000 shuffled mean', mean_100000_sh)\n",
    "runtimes_ext.append(mean_100000_sh)"
   ]
  },
  {
   "cell_type": "code",
   "execution_count": 43,
   "metadata": {},
   "outputs": [
    {
     "data": {
      "image/png": "[encoded data removed]",
      "text/plain": [
       "<Figure size 432x288 with 1 Axes>"
      ]
     },
     "metadata": {
      "needs_background": "light"
     },
     "output_type": "display_data"
    }
   ],
   "source": [
    "plt.plot(list_sizes, runtimes_ext, label=\"Extract\")\n",
    "plt.plot(list_sizes, runtimes_shuffled_ind, label=\"Insert\")\n",
    "plt.xlabel(\"List Size\")\n",
    "plt.ylabel(\"Rutime (seconds)\")\n",
    "plt.title(\"Individually Inserting vs. Extracting\")\n",
    "plt.legend()\n",
    "plt.xscale('log')\n"
   ]
  },
  {
   "cell_type": "markdown",
   "metadata": {},
   "source": [
    "### Reflection Questions:"
   ]
  },
  {
   "cell_type": "markdown",
   "metadata": {},
   "source": [
    "**1. Does the heap creation run time vary between the three scenarios?  Which cases are the best-, average-, and worst-cases?**\n"
   ]
  },
  {
   "cell_type": "markdown",
   "metadata": {},
   "source": [
    "Yes. The average case ended up being the 2nd best, but the best (sorted) and worst (reversed) cases actually ended up being opposite, where the sorted had the largest runtime and the reversed had the lowest runtime. "
   ]
  },
  {
   "cell_type": "markdown",
   "metadata": {},
   "source": [
    "**2. Why do you think the best case is faster than the worst case?  (Hint: think about how a single element is added to the heap and the process for \"bubbling\" that element up or down to maintain the heap invariant property.)** "
   ]
  },
  {
   "cell_type": "markdown",
   "metadata": {},
   "source": [
    "This is because the structure of a heap as a list in a way resembles a max-to-min sort, where the absolute maximum value would be first. Therefore, when a sorted list (min to max) is used, larger values would have to be carried from the end to the beginning of the list, which makes it slower."
   ]
  },
  {
   "cell_type": "markdown",
   "metadata": {},
   "source": [
    "**3. Which is faster: building the entire heap at once or inserting one element at a time?  Why?**\n"
   ]
  },
  {
   "cell_type": "markdown",
   "metadata": {},
   "source": [
    "Building a heap all at once is faster. This is because building a heap is only O(n), whereas inserting a single element is O(nlogn), which means that inserting one at a time for an entire array is O(nlogn). This is because when you do a max_heapify call, only half of the elements, whereas when you insert each element individually, the heap needs to be balanced every n times. "
   ]
  },
  {
   "cell_type": "markdown",
   "metadata": {},
   "source": [
    "**4. Is extracting an element from or inserting an element into the heap faster?  Why?**"
   ]
  },
  {
   "cell_type": "markdown",
   "metadata": {},
   "source": [
    "Inserting an element is faster because when you are inserting an element, there is the possibility that you are inserting into a valid location. However, when extracting an element from a heap, since you're flipping it with the last element in the heap, that specific element is likely going to have to be moved back to the bottom of the heap. Therefore, the time complexity will be slower on average than when you are inserting into a heap. "
   ]
  }
 ],
 "metadata": {
  "kernelspec": {
   "display_name": "Python 3",
   "language": "python",
   "name": "python3"
  },
  "language_info": {
   "codemirror_mode": {
    "name": "ipython",
    "version": 3
   },
   "file_extension": ".py",
   "mimetype": "text/x-python",
   "name": "python",
   "nbconvert_exporter": "python",
   "pygments_lexer": "ipython3",
   "version": "3.6.10"
  }
 },
 "nbformat": 4,
 "nbformat_minor": 4
}
