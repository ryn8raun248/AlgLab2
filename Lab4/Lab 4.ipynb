{
 "cells": [
  {
   "cell_type": "markdown",
   "metadata": {},
   "source": [
    "# Lab 4 - Nigel Nelson, Collin Quinn"
   ]
  },
  {
   "cell_type": "markdown",
   "metadata": {},
   "source": [
    "**Introduction:**"
   ]
  },
  {
   "cell_type": "markdown",
   "metadata": {},
   "source": [
    "Heaps are data structures for efficiently tracking the smallest or largest item in a collection.  Heaps can be \n",
    "repurposed for sorting.  Once a heap is implemented, a collection of elements can be sorted by (1) adding \n",
    "every  element  to  the  heap  and  (2)  popping  each  element  off  of  the  heap  and adding it to  a  list.    Since  the  pop \n",
    "operation  of  the  heap  will  return  the  smallest  (or  largest)  element  of  the  remaining  elements,  the \n",
    "elements will be returned in sorted (reversed sorted) order.\n",
    "\n",
    "In this lab, we are implementing a binary max-heap data structure and then using it to implement heap sort. "
   ]
  },
  {
   "cell_type": "markdown",
   "metadata": {},
   "source": [
    "**Import Libraries:**"
   ]
  },
  {
   "cell_type": "code",
   "execution_count": 31,
   "metadata": {},
   "outputs": [],
   "source": [
    "import heap as hp\n",
    "import matplotlib.pyplot as plt\n",
    "import numpy as np\n",
    "import random\n",
    "import time\n",
    "from heap import *"
   ]
  },
  {
   "cell_type": "markdown",
   "metadata": {},
   "source": [
    "**Run test_heap.py:**"
   ]
  },
  {
   "cell_type": "code",
   "execution_count": 32,
   "metadata": {},
   "outputs": [
    {
     "name": "stderr",
     "output_type": "stream",
     "text": [
      "....\n",
      "----------------------------------------------------------------------\n",
      "Ran 4 tests in 0.001s\n",
      "\n",
      "OK\n"
     ]
    }
   ],
   "source": [
    "!python test_heap.py"
   ]
  },
  {
   "cell_type": "markdown",
   "metadata": {},
   "source": [
    "### **1. Evaluating Impact of List Order on Performance**"
   ]
  },
  {
   "cell_type": "code",
   "execution_count": 33,
   "metadata": {},
   "outputs": [],
   "source": [
    "# List size 100\n",
    "list_100 = []\n",
    "for i in range(100):\n",
    "    list_100.append(random.random())\n",
    "\n",
    "random.shuffle(list_100) # shuffled\n",
    "list_100_shuffled = list_100[:]\n",
    "\n",
    "list_100.sort() # ordered\n",
    "list_100_ordered = list_100[:]\n",
    "\n",
    "list_100.sort(reverse=True) # reversed order\n",
    "list_100_reversed = list_100[:]"
   ]
  },
  {
   "cell_type": "code",
   "execution_count": 34,
   "metadata": {},
   "outputs": [],
   "source": [
    "# List size 1,000\n",
    "list_1000 = []\n",
    "for i in range(1000):\n",
    "    list_1000.append(random.random())\n",
    "\n",
    "random.shuffle(list_1000) # shuffled\n",
    "list_1000_shuffled = list_1000[:]\n",
    "\n",
    "list_1000.sort() # ordered\n",
    "list_1000_ordered = list_1000[:]\n",
    "\n",
    "list_1000.sort(reverse=True) # reversed order\n",
    "list_1000_reversed = list_1000[:]"
   ]
  },
  {
   "cell_type": "code",
   "execution_count": 35,
   "metadata": {},
   "outputs": [],
   "source": [
    "# List size 10,000\n",
    "list_10000 = []\n",
    "for i in range(10000):\n",
    "    list_10000.append(random.random())\n",
    "\n",
    "random.shuffle(list_10000) # shuffled\n",
    "list_10000_shuffled = list_10000[:]\n",
    "\n",
    "list_10000.sort() # ordered\n",
    "list_10000_ordered = list_10000[:]\n",
    "\n",
    "list_10000.sort(reverse=True) # reversed order\n",
    "list_10000_reversed = list_10000[:]"
   ]
  },
  {
   "cell_type": "code",
   "execution_count": 36,
   "metadata": {},
   "outputs": [],
   "source": [
    "# List size 100,000\n",
    "list_100000 = []\n",
    "for i in range(100000):\n",
    "    list_100000.append(random.random())\n",
    "\n",
    "random.shuffle(list_100000) # shuffled\n",
    "list_100000_shuffled = list_100000[:]\n",
    "\n",
    "list_100000.sort() # ordered\n",
    "list_100000_ordered = list_100000[:]\n",
    "\n",
    "list_100000.sort(reverse=True) # reversed order\n",
    "list_100000_reversed = list_100000[:]"
   ]
  },
  {
   "cell_type": "markdown",
   "metadata": {},
   "source": [
    "Benchmark build_max_heap"
   ]
  },
  {
   "cell_type": "code",
   "execution_count": 37,
   "metadata": {},
   "outputs": [],
   "source": [
    "trials = 10\n",
    "runtimes_shuffled_100 = []\n",
    "runtimes_reversed_100 = []\n",
    "runtimes_ordered_100 = []\n",
    "\n",
    "runtimes_shuffled_1000 = []\n",
    "runtimes_reversed_1000 = []\n",
    "runtimes_ordered_1000 = []\n",
    "\n",
    "runtimes_shuffled_10000 = []\n",
    "runtimes_reversed_10000 = []\n",
    "runtimes_ordered_10000 = []\n",
    "\n",
    "runtimes_shuffled_100000 = []\n",
    "runtimes_reversed_100000 = []\n",
    "runtimes_ordered_100000 = []\n",
    "\n",
    "runtimes_shuffled = []\n",
    "runtimes_reversed = []\n",
    "runtimes_ordered = []"
   ]
  },
  {
   "cell_type": "markdown",
   "metadata": {},
   "source": [
    "Size 100"
   ]
  },
  {
   "cell_type": "code",
   "execution_count": 38,
   "metadata": {},
   "outputs": [
    {
     "name": "stdout",
     "output_type": "stream",
     "text": [
      "size 100 shuffled mean 0.0003284500000034996\n"
     ]
    }
   ],
   "source": [
    "for i in range(trials):\n",
    "    start = time.perf_counter()\n",
    "    lst_100_sh = list_100_shuffled[:]\n",
    "    build_max_heap(lst_100_sh)\n",
    "    end = time.perf_counter()\n",
    "    total_time = end - start\n",
    "    runtimes_shuffled_100.append(total_time)\n",
    "mean_100_sh = np.array(runtimes_shuffled_100).mean()\n",
    "print('size 100 shuffled mean', mean_100_sh)\n",
    "runtimes_shuffled.append(mean_100_sh)"
   ]
  },
  {
   "cell_type": "code",
   "execution_count": 39,
   "metadata": {},
   "outputs": [
    {
     "name": "stdout",
     "output_type": "stream",
     "text": [
      "size 100 sorted mean 0.0003452100000060909\n"
     ]
    }
   ],
   "source": [
    "for i in range(trials):\n",
    "    start = time.perf_counter()\n",
    "    lst_100_ordered = list_100_ordered[:]\n",
    "    build_max_heap(lst_100_ordered)\n",
    "    end = time.perf_counter()\n",
    "    total_time = end - start\n",
    "    runtimes_ordered_100.append(total_time)\n",
    "mean_100_ordered = np.array(runtimes_ordered_100).mean()\n",
    "print('size 100 sorted mean', mean_100_ordered)\n",
    "runtimes_ordered.append(mean_100_ordered)"
   ]
  },
  {
   "cell_type": "code",
   "execution_count": 40,
   "metadata": {},
   "outputs": [
    {
     "name": "stdout",
     "output_type": "stream",
     "text": [
      "size 100 reversed mean 0.00024120999999013292\n"
     ]
    }
   ],
   "source": [
    "for i in range(trials):\n",
    "    start = time.perf_counter()\n",
    "    lst_100_reversed = list_100_reversed[:]\n",
    "    build_max_heap(lst_100_reversed)\n",
    "    end = time.perf_counter()\n",
    "    total_time = end - start\n",
    "    runtimes_reversed_100.append(total_time)\n",
    "mean_100_reversed = np.array(runtimes_reversed_100).mean()\n",
    "print('size 100 reversed mean', mean_100_reversed)\n",
    "runtimes_reversed.append(mean_100_reversed)"
   ]
  },
  {
   "cell_type": "markdown",
   "metadata": {},
   "source": [
    "Size 1000"
   ]
  },
  {
   "cell_type": "code",
   "execution_count": 41,
   "metadata": {},
   "outputs": [
    {
     "name": "stdout",
     "output_type": "stream",
     "text": [
      "size 1000 shuffled mean 0.003959109999996713\n"
     ]
    }
   ],
   "source": [
    "for i in range(trials):\n",
    "    start = time.perf_counter()\n",
    "    lst_1000_sh = list_1000_shuffled[:]\n",
    "    build_max_heap(lst_1000_sh)\n",
    "    end = time.perf_counter()\n",
    "    total_time = end - start\n",
    "    runtimes_shuffled_1000.append(total_time)\n",
    "mean_1000_sh = np.array(runtimes_shuffled_1000).mean()\n",
    "print('size 1000 shuffled mean', mean_1000_sh)\n",
    "runtimes_shuffled.append(mean_100_sh)"
   ]
  },
  {
   "cell_type": "code",
   "execution_count": 42,
   "metadata": {},
   "outputs": [
    {
     "name": "stdout",
     "output_type": "stream",
     "text": [
      "size 1000 sorted mean 0.0050183799999985014\n"
     ]
    }
   ],
   "source": [
    "for i in range(trials):\n",
    "    start = time.perf_counter()\n",
    "    lst_1000_ordered = list_1000_ordered[:]\n",
    "    build_max_heap(lst_1000_ordered)\n",
    "    end = time.perf_counter()\n",
    "    total_time = end - start\n",
    "    runtimes_ordered_1000.append(total_time)\n",
    "mean_1000_ordered = np.array(runtimes_ordered_1000).mean()\n",
    "print('size 1000 sorted mean', mean_1000_ordered)\n",
    "runtimes_ordered.append(mean_1000_ordered)"
   ]
  },
  {
   "cell_type": "code",
   "execution_count": 43,
   "metadata": {},
   "outputs": [
    {
     "name": "stdout",
     "output_type": "stream",
     "text": [
      "size 1000 reversed mean 0.0004826200000024983\n"
     ]
    }
   ],
   "source": [
    "for i in range(trials):\n",
    "    start = time.perf_counter()\n",
    "    lst_1000_reversed = list_1000_reversed[:]\n",
    "    build_max_heap(lst_1000_reversed)\n",
    "    end = time.perf_counter()\n",
    "    total_time = end - start\n",
    "    runtimes_reversed_1000.append(total_time)\n",
    "mean_1000_reversed = np.array(runtimes_reversed_1000).mean()\n",
    "print('size 1000 reversed mean', mean_1000_reversed)\n",
    "runtimes_reversed.append(mean_1000_reversed)"
   ]
  },
  {
   "cell_type": "markdown",
   "metadata": {},
   "source": [
    "Size 10,000"
   ]
  },
  {
   "cell_type": "code",
   "execution_count": 44,
   "metadata": {},
   "outputs": [
    {
     "name": "stdout",
     "output_type": "stream",
     "text": [
      "size 10,000 shuffled mean 0.020148810000000593\n"
     ]
    }
   ],
   "source": [
    "for i in range(trials):\n",
    "    start = time.perf_counter()\n",
    "    lst_10000_sh = list_10000_shuffled[:]\n",
    "    build_max_heap(lst_10000_sh)\n",
    "    end = time.perf_counter()\n",
    "    total_time = end - start\n",
    "    runtimes_shuffled_10000.append(total_time)\n",
    "mean_10000_sh = np.array(runtimes_shuffled_10000).mean()\n",
    "print('size 10,000 shuffled mean', mean_10000_sh)\n",
    "runtimes_shuffled.append(mean_10000_sh)"
   ]
  },
  {
   "cell_type": "code",
   "execution_count": 45,
   "metadata": {},
   "outputs": [
    {
     "name": "stdout",
     "output_type": "stream",
     "text": [
      "size 10,000 sorted mean 0.025160280000000056\n"
     ]
    }
   ],
   "source": [
    "for i in range(trials):\n",
    "    start = time.perf_counter()\n",
    "    lst_10000_ordered = list_10000_ordered[:]\n",
    "    build_max_heap(lst_10000_ordered)\n",
    "    end = time.perf_counter()\n",
    "    total_time = end - start\n",
    "    runtimes_ordered_10000.append(total_time)\n",
    "mean_10000_ordered = np.array(runtimes_ordered_10000).mean()\n",
    "print('size 10,000 sorted mean', mean_10000_ordered)\n",
    "runtimes_ordered.append(mean_10000_ordered)"
   ]
  },
  {
   "cell_type": "code",
   "execution_count": 46,
   "metadata": {},
   "outputs": [
    {
     "name": "stdout",
     "output_type": "stream",
     "text": [
      "size 10,000 reversed mean 0.0006916200000034678\n"
     ]
    }
   ],
   "source": [
    "for i in range(trials):\n",
    "    start = time.perf_counter()\n",
    "    lst_10000_reversed = list_1000_reversed[:]\n",
    "    build_max_heap(lst_10000_reversed)\n",
    "    end = time.perf_counter()\n",
    "    total_time = end - start\n",
    "    runtimes_reversed_10000.append(total_time)\n",
    "mean_10000_reversed = np.array(runtimes_reversed_10000).mean()\n",
    "print('size 10,000 reversed mean', mean_10000_reversed)\n",
    "runtimes_reversed.append(mean_10000_reversed)"
   ]
  },
  {
   "cell_type": "markdown",
   "metadata": {},
   "source": [
    "Size 100,000"
   ]
  },
  {
   "cell_type": "code",
   "execution_count": 47,
   "metadata": {},
   "outputs": [
    {
     "name": "stdout",
     "output_type": "stream",
     "text": [
      "size 100,000 shuffled mean 0.266333350000005\n"
     ]
    }
   ],
   "source": [
    "for i in range(trials):\n",
    "    start = time.perf_counter()\n",
    "    lst_100000_sh = list_100000_shuffled[:]\n",
    "    build_max_heap(lst_100000_sh)\n",
    "    end = time.perf_counter()\n",
    "    total_time = end - start\n",
    "    runtimes_shuffled_100000.append(total_time)\n",
    "mean_100000_sh = np.array(runtimes_shuffled_100000).mean()\n",
    "print('size 100,000 shuffled mean', mean_100000_sh)\n",
    "runtimes_shuffled.append(mean_100000_sh)"
   ]
  },
  {
   "cell_type": "code",
   "execution_count": 48,
   "metadata": {},
   "outputs": [
    {
     "name": "stdout",
     "output_type": "stream",
     "text": [
      "size 100,000 sorted mean 0.3060721900000033\n"
     ]
    }
   ],
   "source": [
    "for i in range(trials):\n",
    "    start = time.perf_counter()\n",
    "    lst_100000_ordered = list_100000_ordered[:]\n",
    "    build_max_heap(lst_100000_ordered)\n",
    "    end = time.perf_counter()\n",
    "    total_time = end - start\n",
    "    runtimes_ordered_100000.append(total_time)\n",
    "mean_100000_ordered = np.array(runtimes_ordered_100000).mean()\n",
    "print('size 100,000 sorted mean', mean_100000_ordered)\n",
    "runtimes_ordered.append(mean_100000_ordered)"
   ]
  },
  {
   "cell_type": "code",
   "execution_count": 49,
   "metadata": {},
   "outputs": [
    {
     "name": "stdout",
     "output_type": "stream",
     "text": [
      "size 100,000 reversed mean 0.08804312000000891\n"
     ]
    }
   ],
   "source": [
    "for i in range(trials):\n",
    "    start = time.perf_counter()\n",
    "    lst_100000_reversed = list_100000_reversed[:]\n",
    "    build_max_heap(lst_100000_reversed)\n",
    "    end = time.perf_counter()\n",
    "    total_time = end - start\n",
    "    runtimes_reversed_100000.append(total_time)\n",
    "mean_100000_reversed = np.array(runtimes_reversed_100000).mean()\n",
    "print('size 100,000 reversed mean', mean_100000_reversed)\n",
    "runtimes_reversed.append(mean_100000_reversed)"
   ]
  },
  {
   "cell_type": "markdown",
   "metadata": {},
   "source": [
    "Plot the list sizes vs. runtimes"
   ]
  },
  {
   "cell_type": "code",
   "execution_count": 50,
   "metadata": {},
   "outputs": [
    {
     "data": {
      "image/png": "[encoded data removed]",
      "text/plain": [
       "<Figure size 432x288 with 1 Axes>"
      ]
     },
     "metadata": {
      "needs_background": "light"
     },
     "output_type": "display_data"
    }
   ],
   "source": [
    "list_sizes = [100,1000,10000,100000]\n",
    "plt.plot(list_sizes, runtimes_shuffled, label=\"Shuffled\")\n",
    "plt.plot(list_sizes, runtimes_reversed, label=\"Reversed\")\n",
    "plt.plot(list_sizes, runtimes_ordered, label=\"Ordered\")\n",
    "plt.xlabel(\"List size\")\n",
    "plt.ylabel(\"Runtime (seconds)\")\n",
    "plt.title(\"Build Max Heap\")\n",
    "plt.legend()\n",
    "plt.xscale('log')"
   ]
  },
  {
   "cell_type": "markdown",
   "metadata": {},
   "source": [
    "### **2. Evaluating  Impact  of  Building  Heap  in  One  Step  vs  Inserting  Each  Element.**"
   ]
  },
  {
   "cell_type": "code",
   "execution_count": 51,
   "metadata": {},
   "outputs": [],
   "source": [
    "runtimes_shuffled_100 = []\n",
    "runtimes_reversed_100 = []\n",
    "runtimes_ordered_100 = []\n",
    "\n",
    "runtimes_shuffled_1000 = []\n",
    "runtimes_reversed_1000 = []\n",
    "runtimes_ordered_1000 = []\n",
    "\n",
    "runtimes_shuffled_10000 = []\n",
    "runtimes_reversed_10000 = []\n",
    "runtimes_ordered_10000 = []\n",
    "\n",
    "runtimes_shuffled_100000 = []\n",
    "runtimes_reversed_100000 = []\n",
    "runtimes_ordered_100000 = []\n",
    "\n",
    "runtimes_shuffled_ind = []\n",
    "runtimes_reversed_ind = []\n",
    "runtimes_ordered_ind = []"
   ]
  },
  {
   "cell_type": "markdown",
   "metadata": {},
   "source": [
    "Size 100"
   ]
  },
  {
   "cell_type": "code",
   "execution_count": 52,
   "metadata": {},
   "outputs": [
    {
     "name": "stdout",
     "output_type": "stream",
     "text": [
      "size 100 shuffled mean 0.0005682900000067547\n"
     ]
    }
   ],
   "source": [
    "for i in range(trials):\n",
    "    list_ = []\n",
    "    start = time.perf_counter()\n",
    "    for i in range(len(list_100_shuffled)):\n",
    "        max_heap_insert(list_, list_100_shuffled[i])\n",
    "    end = time.perf_counter()\n",
    "    total_time = end - start\n",
    "    runtimes_shuffled_100.append(total_time)\n",
    "mean_100_sh = np.array(runtimes_shuffled_100).mean()\n",
    "print('size 100 shuffled mean', mean_100_sh)\n",
    "runtimes_shuffled_ind.append(mean_100_sh)"
   ]
  },
  {
   "cell_type": "code",
   "execution_count": 53,
   "metadata": {},
   "outputs": [
    {
     "name": "stdout",
     "output_type": "stream",
     "text": [
      "size 100 ordered mean 0.0016837300000048573\n"
     ]
    }
   ],
   "source": [
    "for i in range(trials):\n",
    "    list_ = []\n",
    "    start = time.perf_counter()\n",
    "    for i in range(len(list_100_ordered)):\n",
    "        max_heap_insert(list_, list_100_ordered[i])\n",
    "    end = time.perf_counter()\n",
    "    total_time = end - start\n",
    "    runtimes_ordered_100.append(total_time)\n",
    "mean_100_or = np.array(runtimes_ordered_100).mean()\n",
    "print('size 100 ordered mean', mean_100_or)\n",
    "runtimes_ordered_ind.append(mean_100_or)"
   ]
  },
  {
   "cell_type": "code",
   "execution_count": 54,
   "metadata": {},
   "outputs": [
    {
     "name": "stdout",
     "output_type": "stream",
     "text": [
      "size 100 reversed mean 0.0006517500000001065\n"
     ]
    }
   ],
   "source": [
    "for i in range(trials):\n",
    "    list_ = []\n",
    "    start = time.perf_counter()\n",
    "    for i in range(len(list_100_reversed)):\n",
    "        max_heap_insert(list_, list_100_reversed[i])\n",
    "    end = time.perf_counter()\n",
    "    total_time = end - start\n",
    "    runtimes_reversed_100.append(total_time)\n",
    "mean_100_rev = np.array(runtimes_reversed_100).mean()\n",
    "print('size 100 reversed mean', mean_100_rev)\n",
    "runtimes_reversed_ind.append(mean_100_rev)"
   ]
  },
  {
   "cell_type": "markdown",
   "metadata": {},
   "source": [
    "Size 1,000"
   ]
  },
  {
   "cell_type": "code",
   "execution_count": 55,
   "metadata": {},
   "outputs": [
    {
     "name": "stdout",
     "output_type": "stream",
     "text": [
      "size 1000 shuffled mean 0.004623850000001539\n"
     ]
    }
   ],
   "source": [
    "for i in range(trials):\n",
    "    list_ = []\n",
    "    start = time.perf_counter()\n",
    "    for i in range(len(list_1000_shuffled)):\n",
    "        max_heap_insert(list_, list_1000_shuffled[i])\n",
    "    end = time.perf_counter()\n",
    "    total_time = end - start\n",
    "    runtimes_shuffled_1000.append(total_time)\n",
    "mean_1000_sh = np.array(runtimes_shuffled_1000).mean()\n",
    "print('size 1000 shuffled mean', mean_1000_sh)\n",
    "runtimes_shuffled_ind.append(mean_1000_sh)"
   ]
  },
  {
   "cell_type": "code",
   "execution_count": 56,
   "metadata": {},
   "outputs": [
    {
     "name": "stdout",
     "output_type": "stream",
     "text": [
      "size 1000 ordered mean 0.016790689999996288\n"
     ]
    }
   ],
   "source": [
    "for i in range(trials):\n",
    "    list_ = []\n",
    "    start = time.perf_counter()\n",
    "    for i in range(len(list_1000_ordered)):\n",
    "        max_heap_insert(list_, list_1000_ordered[i])\n",
    "    end = time.perf_counter()\n",
    "    total_time = end - start\n",
    "    runtimes_ordered_1000.append(total_time)\n",
    "mean_1000_or = np.array(runtimes_ordered_1000).mean()\n",
    "print('size 1000 ordered mean', mean_1000_or)\n",
    "runtimes_ordered_ind.append(mean_1000_or)"
   ]
  },
  {
   "cell_type": "code",
   "execution_count": 57,
   "metadata": {},
   "outputs": [
    {
     "name": "stdout",
     "output_type": "stream",
     "text": [
      "size 1000 reversed mean 0.003926409999999691\n"
     ]
    }
   ],
   "source": [
    "for i in range(trials):\n",
    "    list_ = []\n",
    "    start = time.perf_counter()\n",
    "    for i in range(len(list_1000_reversed)):\n",
    "        max_heap_insert(list_, list_1000_reversed[i])\n",
    "    end = time.perf_counter()\n",
    "    total_time = end - start\n",
    "    runtimes_reversed_1000.append(total_time)\n",
    "mean_1000_rev = np.array(runtimes_reversed_1000).mean()\n",
    "print('size 1000 reversed mean', mean_1000_rev)\n",
    "runtimes_reversed_ind.append(mean_1000_rev)"
   ]
  },
  {
   "cell_type": "markdown",
   "metadata": {},
   "source": [
    "Size 10,000"
   ]
  },
  {
   "cell_type": "code",
   "execution_count": 58,
   "metadata": {},
   "outputs": [
    {
     "name": "stdout",
     "output_type": "stream",
     "text": [
      "size 10000 shuffled mean 0.05438463999999783\n"
     ]
    }
   ],
   "source": [
    "for i in range(trials):\n",
    "    list_ = []\n",
    "    start = time.perf_counter()\n",
    "    for i in range(len(list_10000_shuffled)):\n",
    "        max_heap_insert(list_, list_10000_shuffled[i])\n",
    "    end = time.perf_counter()\n",
    "    total_time = end - start\n",
    "    runtimes_shuffled_10000.append(total_time)\n",
    "mean_10000_sh = np.array(runtimes_shuffled_10000).mean()\n",
    "print('size 10000 shuffled mean', mean_10000_sh)\n",
    "runtimes_shuffled_ind.append(mean_10000_sh)"
   ]
  },
  {
   "cell_type": "code",
   "execution_count": 59,
   "metadata": {},
   "outputs": [
    {
     "name": "stdout",
     "output_type": "stream",
     "text": [
      "size 10000 ordered mean 0.24431848999999772\n"
     ]
    }
   ],
   "source": [
    "for i in range(trials):\n",
    "    list_ = []\n",
    "    start = time.perf_counter()\n",
    "    for i in range(len(list_10000_ordered)):\n",
    "        max_heap_insert(list_, list_10000_ordered[i])\n",
    "    end = time.perf_counter()\n",
    "    total_time = end - start\n",
    "    runtimes_ordered_10000.append(total_time)\n",
    "mean_10000_or = np.array(runtimes_ordered_10000).mean()\n",
    "print('size 10000 ordered mean', mean_10000_or)\n",
    "runtimes_ordered_ind.append(mean_10000_or)"
   ]
  },
  {
   "cell_type": "code",
   "execution_count": 60,
   "metadata": {},
   "outputs": [
    {
     "name": "stdout",
     "output_type": "stream",
     "text": [
      "size 10000 reversed mean 0.0331834299999997\n"
     ]
    }
   ],
   "source": [
    "for i in range(trials):\n",
    "    list_ = []\n",
    "    start = time.perf_counter()\n",
    "    for i in range(len(list_10000_reversed)):\n",
    "        max_heap_insert(list_, list_10000_reversed[i])\n",
    "    end = time.perf_counter()\n",
    "    total_time = end - start\n",
    "    runtimes_reversed_10000.append(total_time)\n",
    "mean_10000_rev = np.array(runtimes_reversed_10000).mean()\n",
    "print('size 10000 reversed mean', mean_10000_rev)\n",
    "runtimes_reversed_ind.append(mean_10000_rev)"
   ]
  },
  {
   "cell_type": "markdown",
   "metadata": {},
   "source": [
    "Size 100,000"
   ]
  },
  {
   "cell_type": "code",
   "execution_count": 61,
   "metadata": {},
   "outputs": [
    {
     "name": "stdout",
     "output_type": "stream",
     "text": [
      "size 100,000 shuffled mean 0.5439585199999926\n"
     ]
    }
   ],
   "source": [
    "for i in range(trials):\n",
    "    list_ = []\n",
    "    start = time.perf_counter()\n",
    "    for i in range(len(list_100000_shuffled)):\n",
    "        max_heap_insert(list_, list_100000_shuffled[i])\n",
    "    end = time.perf_counter()\n",
    "    total_time = end - start\n",
    "    runtimes_shuffled_100000.append(total_time)\n",
    "mean_100000_sh = np.array(runtimes_shuffled_100000).mean()\n",
    "print('size 100,000 shuffled mean', mean_100000_sh)\n",
    "runtimes_shuffled_ind.append(mean_100000_sh)"
   ]
  },
  {
   "cell_type": "code",
   "execution_count": 62,
   "metadata": {},
   "outputs": [
    {
     "name": "stdout",
     "output_type": "stream",
     "text": [
      "size 100000 ordered mean 2.3747515800000087\n"
     ]
    }
   ],
   "source": [
    "for i in range(trials):\n",
    "    list_ = []\n",
    "    start = time.perf_counter()\n",
    "    for i in range(len(list_100000_ordered)):\n",
    "        max_heap_insert(list_, list_100000_ordered[i])\n",
    "    end = time.perf_counter()\n",
    "    total_time = end - start\n",
    "    runtimes_ordered_100000.append(total_time)\n",
    "mean_100000_or = np.array(runtimes_ordered_100000).mean()\n",
    "print('size 100000 ordered mean', mean_100000_or)\n",
    "runtimes_ordered_ind.append(mean_100000_or)"
   ]
  },
  {
   "cell_type": "code",
   "execution_count": 63,
   "metadata": {},
   "outputs": [
    {
     "name": "stdout",
     "output_type": "stream",
     "text": [
      "size 100000 reversed mean 0.3439341600000006\n"
     ]
    }
   ],
   "source": [
    "for i in range(trials):\n",
    "    list_ = []\n",
    "    start = time.perf_counter()\n",
    "    for i in range(len(list_100000_reversed)):\n",
    "        max_heap_insert(list_, list_100000_reversed[i])\n",
    "    end = time.perf_counter()\n",
    "    total_time = end - start\n",
    "    runtimes_reversed_100000.append(total_time)\n",
    "mean_100000_rev = np.array(runtimes_reversed_100000).mean()\n",
    "print('size 100000 reversed mean', mean_100000_rev)\n",
    "runtimes_reversed_ind.append(mean_100000_rev)"
   ]
  },
  {
   "cell_type": "code",
   "execution_count": 64,
   "metadata": {},
   "outputs": [
    {
     "data": {
      "image/png": "[encoded data removed]",
      "text/plain": [
       "<Figure size 432x288 with 1 Axes>"
      ]
     },
     "metadata": {
      "needs_background": "light"
     },
     "output_type": "display_data"
    }
   ],
   "source": [
    "plt.plot(list_sizes, runtimes_shuffled_ind, label=\"Shuffled\")\n",
    "plt.plot(list_sizes, runtimes_reversed_ind, label=\"Reversed\")\n",
    "plt.plot(list_sizes, runtimes_ordered_ind, label=\"Ordered\")\n",
    "plt.xlabel(\"List size\")\n",
    "plt.ylabel(\"Runtime (seconds)\")\n",
    "plt.title(\"Individual Insertion\")\n",
    "plt.legend()\n",
    "plt.xscale('log')"
   ]
  },
  {
   "cell_type": "markdown",
   "metadata": {},
   "source": [
    "Making one plot for each case, comparing build_max_heap method vs. inserting each element individually using max_heap_insert"
   ]
  },
  {
   "cell_type": "code",
   "execution_count": 65,
   "metadata": {},
   "outputs": [
    {
     "data": {
      "image/png": "[encoded data removed]",
      "text/plain": [
       "<Figure size 432x288 with 1 Axes>"
      ]
     },
     "metadata": {
      "needs_background": "light"
     },
     "output_type": "display_data"
    }
   ],
   "source": [
    "plt.plot(list_sizes, runtimes_shuffled, label=\"build_max_heap\")\n",
    "plt.plot(list_sizes, runtimes_shuffled_ind, label=\"individual\")\n",
    "plt.xlabel(\"List Size\")\n",
    "plt.ylabel(\"Runtime (seconds)\")\n",
    "plt.title(\"Shuffled\")\n",
    "plt.legend()\n",
    "plt.xscale('log')"
   ]
  },
  {
   "cell_type": "code",
   "execution_count": 66,
   "metadata": {},
   "outputs": [
    {
     "data": {
      "image/png": "[encoded data removed]",
      "text/plain": [
       "<Figure size 432x288 with 1 Axes>"
      ]
     },
     "metadata": {
      "needs_background": "light"
     },
     "output_type": "display_data"
    }
   ],
   "source": [
    "plt.plot(list_sizes, runtimes_ordered, label=\"build_max_heap\")\n",
    "plt.plot(list_sizes, runtimes_ordered_ind, label=\"individual\")\n",
    "plt.xlabel(\"List Size\")\n",
    "plt.ylabel(\"Runtime (seconds)\")\n",
    "plt.title(\"Ordered\")\n",
    "plt.legend()\n",
    "plt.xscale('log')"
   ]
  },
  {
   "cell_type": "code",
   "execution_count": 67,
   "metadata": {},
   "outputs": [
    {
     "data": {
      "image/png": "[encoded data removed]",
      "text/plain": [
       "<Figure size 432x288 with 1 Axes>"
      ]
     },
     "metadata": {
      "needs_background": "light"
     },
     "output_type": "display_data"
    }
   ],
   "source": [
    "plt.plot(list_sizes, runtimes_reversed, label=\"build_max_heap\")\n",
    "plt.plot(list_sizes, runtimes_reversed_ind, label=\"individual\")\n",
    "plt.xlabel(\"List Size\")\n",
    "plt.ylabel(\"Runtime (seconds)\")\n",
    "plt.title(\"Reversed\")\n",
    "plt.legend()\n",
    "plt.xscale('log')"
   ]
  },
  {
   "cell_type": "markdown",
   "metadata": {},
   "source": [
    "### **3. Evaluating  Run-Time  of  Extraction  vs  Insert.**"
   ]
  },
  {
   "cell_type": "code",
   "execution_count": 68,
   "metadata": {},
   "outputs": [],
   "source": [
    "runtimes_ext = []\n",
    "runtimes_shuffled_100 = []\n",
    "runtimes_shuffled_1000 = []\n",
    "runtimes_shuffled_10000 = []\n",
    "runtimes_shuffled_100000 = []"
   ]
  },
  {
   "cell_type": "markdown",
   "metadata": {},
   "source": [
    "Size 100"
   ]
  },
  {
   "cell_type": "code",
   "execution_count": 69,
   "metadata": {},
   "outputs": [
    {
     "name": "stdout",
     "output_type": "stream",
     "text": [
      "size 100 shuffled mean 0.0006675199999847337\n"
     ]
    }
   ],
   "source": [
    "for i in range(trials):\n",
    "    list_ = list_100_shuffled[:] \n",
    "    build_max_heap(list_)\n",
    "    start = time.perf_counter()\n",
    "    for i in range(len(list_100_shuffled)):\n",
    "        heap_extract_max(list_)\n",
    "    end = time.perf_counter()\n",
    "    total_time = end - start\n",
    "    runtimes_shuffled_100.append(total_time)\n",
    "mean_100_sh = np.array(runtimes_shuffled_100).mean()\n",
    "print('size 100 shuffled mean', mean_100_sh)\n",
    "runtimes_ext.append(mean_100_sh)\n"
   ]
  },
  {
   "cell_type": "markdown",
   "metadata": {},
   "source": [
    "Size 1,000"
   ]
  },
  {
   "cell_type": "code",
   "execution_count": 70,
   "metadata": {},
   "outputs": [
    {
     "name": "stdout",
     "output_type": "stream",
     "text": [
      "size 1000 shuffled mean 0.023734610000002477\n"
     ]
    }
   ],
   "source": [
    "for i in range(trials):\n",
    "    list_ = list_1000_shuffled[:] \n",
    "    build_max_heap(list_)\n",
    "    start = time.perf_counter()\n",
    "    for i in range(len(list_1000_shuffled)):\n",
    "        heap_extract_max(list_)\n",
    "    end = time.perf_counter()\n",
    "    total_time = end - start\n",
    "    runtimes_shuffled_1000.append(total_time)\n",
    "mean_1000_sh = np.array(runtimes_shuffled_1000).mean()\n",
    "print('size 1000 shuffled mean', mean_1000_sh)\n",
    "runtimes_ext.append(mean_1000_sh)"
   ]
  },
  {
   "cell_type": "markdown",
   "metadata": {},
   "source": [
    "Size 10,000"
   ]
  },
  {
   "cell_type": "code",
   "execution_count": 71,
   "metadata": {},
   "outputs": [
    {
     "name": "stdout",
     "output_type": "stream",
     "text": [
      "size 10000 shuffled mean 0.22210270999998444\n"
     ]
    }
   ],
   "source": [
    "for i in range(trials):\n",
    "    list_ = list_10000_shuffled[:] \n",
    "    build_max_heap(list_)\n",
    "    start = time.perf_counter()\n",
    "    for i in range(len(list_10000_shuffled)):\n",
    "        heap_extract_max(list_)\n",
    "    end = time.perf_counter()\n",
    "    total_time = end - start\n",
    "    runtimes_shuffled_10000.append(total_time)\n",
    "mean_10000_sh = np.array(runtimes_shuffled_10000).mean()\n",
    "print('size 10000 shuffled mean', mean_10000_sh)\n",
    "runtimes_ext.append(mean_10000_sh)"
   ]
  },
  {
   "cell_type": "markdown",
   "metadata": {},
   "source": [
    "Size 100,000"
   ]
  },
  {
   "cell_type": "code",
   "execution_count": 72,
   "metadata": {},
   "outputs": [
    {
     "name": "stdout",
     "output_type": "stream",
     "text": [
      "size 100000 shuffled mean 3.104924989999995\n"
     ]
    }
   ],
   "source": [
    "for i in range(trials):\n",
    "    list_ = list_100000_shuffled[:] \n",
    "    build_max_heap(list_)\n",
    "    start = time.perf_counter()\n",
    "    for i in range(len(list_100000_shuffled)):\n",
    "        heap_extract_max(list_)\n",
    "    end = time.perf_counter()\n",
    "    total_time = end - start\n",
    "    runtimes_shuffled_100000.append(total_time)\n",
    "mean_100000_sh = np.array(runtimes_shuffled_100000).mean()\n",
    "print('size 100000 shuffled mean', mean_100000_sh)\n",
    "runtimes_ext.append(mean_100000_sh)"
   ]
  },
  {
   "cell_type": "code",
   "execution_count": 73,
   "metadata": {},
   "outputs": [
    {
     "data": {
      "image/png": "[encoded data removed]",
      "text/plain": [
       "<Figure size 432x288 with 1 Axes>"
      ]
     },
     "metadata": {
      "needs_background": "light"
     },
     "output_type": "display_data"
    }
   ],
   "source": [
    "plt.plot(list_sizes, runtimes_ext, label=\"Extract\")\n",
    "plt.plot(list_sizes, runtimes_shuffled_ind, label=\"Insert\")\n",
    "plt.xlabel(\"List Size\")\n",
    "plt.ylabel(\"Rutime (seconds)\")\n",
    "plt.title(\"Individually Inserting vs. Extracting\")\n",
    "plt.legend()\n",
    "plt.xscale('log')\n"
   ]
  },
  {
   "cell_type": "markdown",
   "metadata": {},
   "source": [
    "### Reflection Questions:"
   ]
  },
  {
   "cell_type": "markdown",
   "metadata": {},
   "source": [
    "**1. Does the heap creation run time vary between the three scenarios?  Which cases are the best-, average-, and worst-cases?**\n"
   ]
  },
  {
   "cell_type": "markdown",
   "metadata": {},
   "source": [
    "The run times do vary between the three scenarios. The average case of having shuffled data ended up being the 2nd quickest. The best case was the scenario in which the array was pre-sorted in reverse order and the worst case was the scenario in which the array was pre-sorted. This is interesting as these best and worst case scenarios are traditionally flipped for other sorting algorithms."
   ]
  },
  {
   "cell_type": "markdown",
   "metadata": {},
   "source": [
    "**2. Why do you think the best case is faster than the worst case?  (Hint: think about how a single element is added to the heap and the process for \"bubbling\" that element up or down to maintain the heap invariant property.)** "
   ]
  },
  {
   "cell_type": "markdown",
   "metadata": {},
   "source": [
    "This is because the structure of a heap as a list in a way resembles a max-to-min sort, where the absolute maximum value would be first. Therefore, when a reverse sorted list (max to min) is used, each time an element is popped off the list and inserted into the heap, it will satisfy the condition of being less than its parent. However, if the arrray is sorted (min to max) then each element inserted besides the first will result in a reordering of the heap all the way from the bottom to the top."
   ]
  },
  {
   "cell_type": "markdown",
   "metadata": {},
   "source": [
    "**3. Which is faster: building the entire heap at once or inserting one element at a time?  Why?**\n"
   ]
  },
  {
   "cell_type": "markdown",
   "metadata": {},
   "source": [
    "Building a heap all at once is faster. This is because building a heap is only O(n), whereas inserting a single element is O(logn), which means that inserting one at a time for an entire array is O(nlogn). This is because when you build a max heap, you only call max_heapify n/2 times, whereas when you insert each element individually, heap_increase_key is called n times. As such, building a max heap all at once ultimately results in less calls to ensure the max heap property hold."
   ]
  },
  {
   "cell_type": "markdown",
   "metadata": {},
   "source": [
    "**4. Is extracting an element from or inserting an element into the heap faster?  Why?**"
   ]
  },
  {
   "cell_type": "markdown",
   "metadata": {},
   "source": [
    "Inserting an element is faster because when you are inserting an element, there is the possibility that you are inserting into a valid location. However, when extracting the max element from a heap, you're flipping the root with the last element in the heap. As such, that specific element is likely going to have to be moved back to the bottom of the heap. Therefore, the time complexity for extracting will be slower on average than when you are inserting into a heap due to the fact that extracting will require many more switches to ensure the max heap property holds."
   ]
  }
 ],
 "metadata": {
  "kernelspec": {
   "display_name": "Python 3",
   "language": "python",
   "name": "python3"
  },
  "language_info": {
   "codemirror_mode": {
    "name": "ipython",
    "version": 3
   },
   "file_extension": ".py",
   "mimetype": "text/x-python",
   "name": "python",
   "nbconvert_exporter": "python",
   "pygments_lexer": "ipython3",
   "version": "3.6.8"
  }
 },
 "nbformat": 4,
 "nbformat_minor": 4
}
